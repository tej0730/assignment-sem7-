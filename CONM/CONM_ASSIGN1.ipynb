{
 "cells": [
  {
   "cell_type": "code",
   "execution_count": 1,
   "metadata": {
    "colab": {
     "base_uri": "https://localhost:8080/",
     "height": 0
    },
    "id": "7VeC1SGMew14",
    "outputId": "0dd3fe4b-e2de-429c-c888-ae3f241cf237"
   },
   "outputs": [
    {
     "name": "stdin",
     "output_type": "stream",
     "text": [
      "Enter a:  1\n",
      "Enter b:  2\n",
      "Enter the tolerance (e):  0.00001\n"
     ]
    },
    {
     "name": "stdout",
     "output_type": "stream",
     "text": [
      "Iteration  a          f(a)       b          f(b)       c         \n",
      "------------------------------------------------------------\n",
      "1          1.00000    -5.00000   2.00000    20.00000   1.50000    3.31250   \n",
      "2          1.00000    -5.00000   1.50000    3.31250    1.25000    -1.62109  \n",
      "3          1.25000    -1.62109   1.50000    3.31250    1.37500    0.62134   \n",
      "4          1.25000    -1.62109   1.37500    0.62134    1.31250    -0.55199  \n",
      "5          1.31250    -0.55199   1.37500    0.62134    1.34375    0.02116   \n",
      "6          1.31250    -0.55199   1.34375    0.02116    1.32812    -0.26873  \n",
      "7          1.32812    -0.26873   1.34375    0.02116    1.33594    -0.12462  \n",
      "8          1.33594    -0.12462   1.34375    0.02116    1.33984    -0.05194  \n",
      "9          1.33984    -0.05194   1.34375    0.02116    1.34180    -0.01544  \n",
      "10         1.34180    -0.01544   1.34375    0.02116    1.34277    0.00285   \n",
      "11         1.34180    -0.01544   1.34277    0.00285    1.34229    -0.00630  \n",
      "12         1.34229    -0.00630   1.34277    0.00285    1.34253    -0.00172  \n",
      "13         1.34253    -0.00172   1.34277    0.00285    1.34265    0.00056   \n",
      "14         1.34253    -0.00172   1.34265    0.00056    1.34259    -0.00058  \n",
      "15         1.34259    -0.00058   1.34265    0.00056    1.34262    -0.00001  \n",
      "16         1.34262    -0.00001   1.34265    0.00056    1.34264    0.00028   \n",
      "\n",
      "Number of iterations are:  16\n",
      "Root of the equation is:  1.3426284790039062\n"
     ]
    }
   ],
   "source": [
    "# 1 Bisection\n",
    "a = float(input(\"Enter a: \"))\n",
    "b = float(input(\"Enter b: \"))\n",
    "e = float(input(\"Enter the tolerance (e): \"))\n",
    "\n",
    "def f(num):\n",
    "    return (num**4) + 3*(num**2) + num - 10\n",
    "\n",
    "k = 1\n",
    "c = (a + b) / 2\n",
    "\n",
    "\n",
    "print(\"{:<10} {:<10} {:<10} {:<10} {:<10} {:<10}\".format(\"Iteration\", \"a\", \"f(a)\", \"b\", \"f(b)\", \"c\", \"f(c)\"))\n",
    "print(\"-\" * 60)\n",
    "\n",
    "while True:\n",
    "    fc = f(c)\n",
    "    \n",
    "\n",
    "    print(\"{:<10} {:<10.5f} {:<10.5f} {:<10.5f} {:<10.5f} {:<10.5f} {:<10.5f}\".format(\n",
    "        k, a, f(a), b, f(b), c, fc))\n",
    "    \n",
    "    if f(a) * f(c) < 0:\n",
    "        b = c\n",
    "    else:\n",
    "        a = c\n",
    "\n",
    "    c_prev = c\n",
    "    c = (a + b) / 2\n",
    "\n",
    "    if abs(c - c_prev) < e:\n",
    "        break\n",
    "\n",
    "    k += 1\n",
    "\n",
    "print(\"\\nNumber of iterations are: \", k)\n",
    "print(\"Root of the equation is: \", c)\n"
   ]
  },
  {
   "cell_type": "code",
   "execution_count": 3,
   "metadata": {},
   "outputs": [
    {
     "name": "stdin",
     "output_type": "stream",
     "text": [
      "Enter a:  1\n",
      "Enter b:  2\n",
      "Enter the tolerance (e):  0.00001\n"
     ]
    },
    {
     "name": "stdout",
     "output_type": "stream",
     "text": [
      "--------------------------------------------------\n",
      "a : 1.0 f(a) : -4.0 b : 2.0 f(b): 2.0 c: 1.6666666666666667 fc: -1.0370370370370363\n",
      "--------------------------------------------------\n",
      "a : 1.6666666666666667 f(a) : -1.0370370370370363 b : 2.0 f(b): 2.0 c: 1.780487804878049 fc: -0.13609785116292317\n",
      "--------------------------------------------------\n",
      "a : 1.780487804878049 f(a) : -0.13609785116292317 b : 2.0 f(b): 2.0 c: 1.7944736520357012 fc: -0.016025004208394478\n",
      "--------------------------------------------------\n",
      "a : 1.7944736520357012 f(a) : -0.016025004208394478 b : 2.0 f(b): 2.0 c: 1.7961073423838807 fc: -0.0018622083672488188\n",
      "--------------------------------------------------\n",
      "a : 1.7961073423838807 f(a) : -0.0018622083672488188 b : 2.0 f(b): 2.0 c: 1.7962970110890724 fc: -0.00021606859402067968\n",
      "--------------------------------------------------\n",
      "a : 1.7962970110890724 f(a) : -0.00021606859402067968 b : 2.0 f(b): 2.0 c: 1.796319015621034 fc: -2.5065572228477606e-05\n",
      "Number of iterations are:  6\n",
      "Root of the equation is:  1.7963215682792548\n"
     ]
    }
   ],
   "source": [
    "#2 False Position\n",
    "a = float(input(\"Enter a: \"))\n",
    "b = float(input(\"Enter b: \"))\n",
    "e = float(input(\"Enter the tolerance (e): \"))\n",
    "\n",
    "def f(num):\n",
    "    return (num**3) - num - 4\n",
    "#  (a * func(b) - b * func(a))/ (func(b) - func(a))\n",
    "k = 1\n",
    "c = (a* f(b) - b * f(a))/(f(b)-f(a))\n",
    "while True:\n",
    "    print(\"-\" * 50)\n",
    "    fc = f(c)\n",
    "    formatted_string = \"a : {} f(a) : {} b : {} f(b): {} c: {} fc: {}\".format(a, f(a), b, f(b), c, fc)\n",
    "    print(formatted_string)\n",
    "\n",
    "    if f(a) * f(c) < 0:\n",
    "        b = c\n",
    "    else:\n",
    "        a = c\n",
    "\n",
    "    c_prev = c\n",
    "    c = (a* f(b) - b * f(a))/(f(b)-f(a))\n",
    "\n",
    "    if abs(c - c_prev) < e:\n",
    "        break\n",
    "\n",
    "    k += 1\n",
    "\n",
    "print(\"Number of iterations are: \", k)\n",
    "print(\"Root of the equation is: \", c)\n"
   ]
  },
  {
   "cell_type": "code",
   "execution_count": 19,
   "metadata": {
    "colab": {
     "base_uri": "https://localhost:8080/",
     "height": 0
    },
    "id": "-R16ibnjlPj3",
    "outputId": "3513e0a0-02ee-4f73-fa12-aa19f01d050c"
   },
   "outputs": [
    {
     "name": "stdout",
     "output_type": "stream",
     "text": [
      "--------------------------------------------------\n",
      "x0 : 2.0 f(x0) : -9.0 x1 : 3.0 f(x1): 6.0 x2: 2.6 f(x2): -1.8239999999999998\n",
      "--------------------------------------------------\n",
      "x0 : 3.0 f(x0) : 6.0 x1 : 2.6 f(x1): -1.8239999999999998 x2: 2.6932515337423313 f(x2): -0.23722651080748847\n",
      "--------------------------------------------------\n",
      "x0 : 2.6 f(x0) : -1.8239999999999998 x1 : 2.6932515337423313 f(x1): -0.23722651080748847 x2: 2.7071928657142923 f(x2): 0.011955954723166684\n",
      "--------------------------------------------------\n",
      "x0 : 2.6932515337423313 f(x0) : -0.23722651080748847 x1 : 2.7071928657142923 f(x1): 0.011955954723166684 x2: 2.7065239505340752 f(x2): -7.197464652008989e-05\n",
      "Number of iterations are:  4\n",
      "Root of the equation is:  2.7065239505340752\n"
     ]
    }
   ],
   "source": [
    "#ques 3 Secant Method \n",
    "x0 = 2.0\n",
    "x1 = 3.0\n",
    "e = 0.001\n",
    "\n",
    "def f(x):\n",
    "    # return x**3 - 4\n",
    "    return x**3-4*x-9\n",
    "\n",
    "k = 1\n",
    "while True:\n",
    "    print(\"-\" * 50)\n",
    "    f_x0 = f(x0)\n",
    "    f_x1 = f(x1)\n",
    "\n",
    "\n",
    "    x2 = x1 - f_x1 * (x1 - x0) / (f_x1 - f_x0)\n",
    "\n",
    "\n",
    "    formatted_string = \"x0 : {} f(x0) : {} x1 : {} f(x1): {} x2: {} f(x2): {}\".format(x0, f_x0, x1, f_x1, x2, f(x2))\n",
    "    print(formatted_string)\n",
    "\n",
    "\n",
    "    if abs(x2 - x1) < e:\n",
    "        break\n",
    "\n",
    "    x0 = x1\n",
    "    x1 = x2\n",
    "\n",
    "    k += 1\n",
    "\n",
    "print(\"Number of iterations are: \", k)\n",
    "print(\"Root of the equation is: \", x2)\n"
   ]
  },
  {
   "cell_type": "code",
   "execution_count": 5,
   "metadata": {
    "colab": {
     "base_uri": "https://localhost:8080/",
     "height": 0
    },
    "id": "7604HFEIlr4I",
    "outputId": "91bf0790-b643-4f5f-c0ad-57a2852798f4"
   },
   "outputs": [
    {
     "name": "stdout",
     "output_type": "stream",
     "text": [
      "Iteration 0: x_n = 3.5, f(x_n) = 0.25\n",
      "Iteration 1: x_n = 3.4642857142857144, f(x_n) = 0.001275510204083119\n",
      "Iteration 2: x_n = 3.464101620029455, f(x_n) = 3.389069647141696e-08\n",
      "Approximate value of √12: 3.4641\n",
      "Number of iterations: 2\n"
     ]
    }
   ],
   "source": [
    "#ques 4 Newton Raphson Method\n",
    "x_n = 3.5\n",
    "tolerance = 0.000001\n",
    "\n",
    "def f(x):\n",
    "    return x**2 - 12\n",
    "\n",
    "def f_prime(x):\n",
    "\n",
    "k = 0\n",
    "\n",
    "while True:\n",
    "    print(f\"Iteration {k}: x_n = {x_n}, f(x_n) = {f(x_n)}\")\n",
    "\n",
    "    x_next = x_n - f(x_n) / f_prime(x_n)\n",
    "\n",
    "    if abs(x_next - x_n) < tolerance:\n",
    "        break\n",
    "\n",
    "    x_n = x_next\n",
    "    k += 1\n",
    "\n",
    "print(\"Approximate value of √12:\", round(x_next, 5))\n",
    "print(\"Number of iterations:\", k)\n"
   ]
  },
  {
   "cell_type": "code",
   "execution_count": 5,
   "metadata": {
    "colab": {
     "base_uri": "https://localhost:8080/",
     "height": 0
    },
    "id": "f73aEZEPmFL1",
    "outputId": "1cc8e5db-1343-4d5f-916f-db252df9a845"
   },
   "outputs": [
    {
     "name": "stdin",
     "output_type": "stream",
     "text": [
      "Enter the coefficients (eg : -2,3,-121) : 1,-1,-1,1\n",
      "Enter the initial guess : 0.5\n"
     ]
    },
    {
     "name": "stdout",
     "output_type": "stream",
     "text": [
      "\n",
      "Number of Iteration 4\n",
      "The BirgeVieta Table:\n",
      "    ai     bi    ci\n",
      "1  1.0  1.000  1.00\n",
      "2 -1.0 -0.500  0.00\n",
      "3 -1.0 -1.250 -1.25\n",
      "4  1.0  0.375 -0.25\n",
      "\n",
      "    ai     bi     ci\n",
      "1  1.0  1.000  1.000\n",
      "2 -1.0 -0.200  0.600\n",
      "3 -1.0 -1.160 -0.680\n",
      "4  1.0  0.072 -0.472\n",
      "\n",
      "    ai        bi        ci\n",
      "1  1.0  1.000000  1.000000\n",
      "2 -1.0 -0.094118  0.811765\n",
      "3 -1.0 -1.085260 -0.349896\n",
      "4  1.0  0.016883 -0.300082\n",
      "\n",
      "    ai        bi        ci\n",
      "1  1.0  1.000000  1.000000\n",
      "2 -1.0 -0.045867  0.908265\n",
      "3 -1.0 -1.043764 -0.177158\n",
      "4  1.0  0.004111 -0.164921\n",
      "\n"
     ]
    }
   ],
   "source": [
    "#5 Birge Vieta Method\n",
    "import pandas as pd\n",
    "\n",
    "def bCal(data,guess: float)->None:\n",
    "    val = data[\"ai\"][len(data[\"bi\"])] + (data[\"bi\"][-1] * guess)\n",
    "    data[\"bi\"].append(val)\n",
    "    return None\n",
    "\n",
    "def cCal(data,guess: float)->None:\n",
    "    val = data[\"bi\"][len(data[\"ci\"])] + (data[\"ci\"][-1] * guess)\n",
    "    data[\"ci\"].append(val)\n",
    "    return None\n",
    "\n",
    "coefficient = str(input(\"Enter the coefficients (eg : -2,3,-121) :\"))\n",
    "guess = float(input(\"Enter the initial guess :\"))\n",
    "listCoefficient = [float(val) for val in coefficient.split(\",\")]\n",
    "outputList = []\n",
    "k = 0\n",
    "while True:\n",
    "    data = {\n",
    "        \"ai\":[],\n",
    "        \"bi\":[],\n",
    "        \"ci\":[],\n",
    "    }\n",
    "    \n",
    "    data[\"ai\"] = listCoefficient\n",
    "    data[\"bi\"].append(listCoefficient[0])\n",
    "    data[\"ci\"].append(listCoefficient[0])\n",
    "\n",
    "    while True:\n",
    "        bCal(data,guess)\n",
    "        cCal(data,guess)\n",
    "        if len(data[\"ai\"]) == len(data[\"bi\"]) == len(data[\"ci\"]):\n",
    "            guess = guess - (data[\"bi\"][-1]/data[\"ci\"][-2])\n",
    "            break\n",
    "    outputList.append(data)\n",
    "    k+=1\n",
    "    if k > 3:\n",
    "        break\n",
    "\n",
    "print(f\"\\nNumber of Iteration {k}\\nThe BirgeVieta Table:\")\n",
    "for i in outputList:\n",
    "    print(pd.DataFrame(i,range(1,len(i[\"ai\"])+1)))\n",
    "    print()"
   ]
  }
 ],
 "metadata": {
  "colab": {
   "provenance": []
  },
  "kernelspec": {
   "display_name": "Python 3 (ipykernel)",
   "language": "python",
   "name": "python3"
  },
  "language_info": {
   "codemirror_mode": {
    "name": "ipython",
    "version": 3
   },
   "file_extension": ".py",
   "mimetype": "text/x-python",
   "name": "python",
   "nbconvert_exporter": "python",
   "pygments_lexer": "ipython3",
   "version": "3.12.4"
  }
 },
 "nbformat": 4,
 "nbformat_minor": 4
}
